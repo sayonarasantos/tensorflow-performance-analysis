{
 "cells": [
  {
   "cell_type": "markdown",
   "id": "1be7df24-c965-42f7-908b-31a229eb7b4f",
   "metadata": {
    "tags": []
   },
   "source": [
    "# Data analysis of the 2nd experiment\n",
    "\n",
    "We ran the upgrade pipeline of the two versions of the Classification Service application and collected the consumption of physical resources used in the Jenkins VM -- CPU and memory -- and the execution time of the image build and delivery stage in the Amazon ECR -- stage II . We determined these metrics to present the impact of packages on time and resource costs in the application update process."
   ]
  },
  {
   "cell_type": "code",
   "execution_count": 1,
   "id": "45c2bcdc-cf5b-489b-a229-d8b4f230395b",
   "metadata": {},
   "outputs": [],
   "source": [
    "import pandas as pd\n",
    "from datetime import datetime, timedelta\n",
    "import numpy as np\n",
    "import scipy.stats as st"
   ]
  },
  {
   "cell_type": "markdown",
   "id": "489cbc86-892b-4517-81e7-c6358f13ac9d",
   "metadata": {
    "tags": []
   },
   "source": [
    "## Utils"
   ]
  },
  {
   "cell_type": "code",
   "execution_count": 2,
   "id": "b6a9830b-aff1-48e5-ac0a-a352f8bd1693",
   "metadata": {},
   "outputs": [],
   "source": [
    "def get_usage_list(data_frame, initial_time, column):\n",
    "    start_time = datetime.strptime(initial_time, '%Y-%m-%d %H:%M:%S')\n",
    "\n",
    "    usage_max = list()\n",
    "\n",
    "    for _ in range(30):\n",
    "        end_time = start_time + timedelta(minutes = 10)\n",
    "        df_row = data_frame.loc[(data_frame['Time'].dt.to_pydatetime()>=start_time) &\n",
    "                                (data_frame['Time'].dt.to_pydatetime()<end_time)]\n",
    "        usage_max.append(df_row[column].max())\n",
    "        start_time = end_time\n",
    "    return usage_max"
   ]
  },
  {
   "cell_type": "code",
   "execution_count": 3,
   "id": "86b6ba69-f835-4f50-b4b0-578e4e613087",
   "metadata": {},
   "outputs": [],
   "source": [
    "def get_statistics(usage_list):\n",
    "    mean = np.mean(usage_list)\n",
    "\n",
    "    lower, upper = st.t.interval(alpha=.95, df=len(usage_list)-1, loc=mean, scale=st.sem(usage_list))\n",
    "\n",
    "    print(f\"Samples: {usage_list}\"\n",
    "          f\"\\n\\nMean: {mean} \\n\\nMedian: {np.median(usage_list)}\"\n",
    "          f\"\\n\\nMode: {st.mode(usage_list)[0][0]}\"\n",
    "          f\"\\n\\nMimimum: {min(usage_list)} \\n\\nMaximum: {max(usage_list)}\"\n",
    "          f\"\\n\\nValues for confidence interval of 95%: \\n\\n\"\n",
    "          f\"  - lower limit: {lower} \\n\\n  - upper limit: {upper}\")"
   ]
  },
  {
   "cell_type": "markdown",
   "id": "a1a4f46c-cf8f-4ab9-8584-b6c2392c4751",
   "metadata": {
    "tags": []
   },
   "source": [
    "## TensorFlow"
   ]
  },
  {
   "cell_type": "markdown",
   "id": "8939e008-302f-4d55-8230-3af4a59d49e7",
   "metadata": {
    "tags": []
   },
   "source": [
    "### CPU"
   ]
  },
  {
   "cell_type": "code",
   "execution_count": 4,
   "id": "977ee0dc-aa81-4ded-bd5e-cc4f9f606c9a",
   "metadata": {},
   "outputs": [
    {
     "name": "stdout",
     "output_type": "stream",
     "text": [
      "<class 'pandas.core.frame.DataFrame'>\n",
      "RangeIndex: 895 entries, 0 to 894\n",
      "Data columns (total 4 columns):\n",
      " #   Column  Non-Null Count  Dtype  \n",
      "---  ------  --------------  -----  \n",
      " 0   Time    895 non-null    int64  \n",
      " 1   User    895 non-null    float64\n",
      " 2   System  895 non-null    float64\n",
      " 3   IoWait  895 non-null    float64\n",
      "dtypes: float64(3), int64(1)\n",
      "memory usage: 28.1 KB\n"
     ]
    },
    {
     "data": {
      "text/html": [
       "<div>\n",
       "<style scoped>\n",
       "    .dataframe tbody tr th:only-of-type {\n",
       "        vertical-align: middle;\n",
       "    }\n",
       "\n",
       "    .dataframe tbody tr th {\n",
       "        vertical-align: top;\n",
       "    }\n",
       "\n",
       "    .dataframe thead th {\n",
       "        text-align: right;\n",
       "    }\n",
       "</style>\n",
       "<table border=\"1\" class=\"dataframe\">\n",
       "  <thead>\n",
       "    <tr style=\"text-align: right;\">\n",
       "      <th></th>\n",
       "      <th>Time</th>\n",
       "      <th>User</th>\n",
       "      <th>System</th>\n",
       "      <th>IoWait</th>\n",
       "    </tr>\n",
       "  </thead>\n",
       "  <tbody>\n",
       "    <tr>\n",
       "      <th>0</th>\n",
       "      <td>1654782540000</td>\n",
       "      <td>0.266684</td>\n",
       "      <td>0.125008</td>\n",
       "      <td>0.01665</td>\n",
       "    </tr>\n",
       "    <tr>\n",
       "      <th>1</th>\n",
       "      <td>1654782560000</td>\n",
       "      <td>0.183267</td>\n",
       "      <td>0.116625</td>\n",
       "      <td>0.00000</td>\n",
       "    </tr>\n",
       "  </tbody>\n",
       "</table>\n",
       "</div>"
      ],
      "text/plain": [
       "            Time      User    System   IoWait\n",
       "0  1654782540000  0.266684  0.125008  0.01665\n",
       "1  1654782560000  0.183267  0.116625  0.00000"
      ]
     },
     "execution_count": 4,
     "metadata": {},
     "output_type": "execute_result"
    }
   ],
   "source": [
    "cdata = pd.read_csv('tensorflow/cpu.csv')\n",
    "cdata.info()\n",
    "cdata.head(2)"
   ]
  },
  {
   "cell_type": "code",
   "execution_count": 5,
   "id": "2b184ad5-15e0-420d-aa98-e82cae5322a4",
   "metadata": {},
   "outputs": [
    {
     "name": "stdout",
     "output_type": "stream",
     "text": [
      "<class 'pandas.core.frame.DataFrame'>\n",
      "RangeIndex: 895 entries, 0 to 894\n",
      "Data columns (total 4 columns):\n",
      " #   Column  Non-Null Count  Dtype         \n",
      "---  ------  --------------  -----         \n",
      " 0   Time    895 non-null    datetime64[ns]\n",
      " 1   User    895 non-null    float64       \n",
      " 2   System  895 non-null    float64       \n",
      " 3   IoWait  895 non-null    float64       \n",
      "dtypes: datetime64[ns](1), float64(3)\n",
      "memory usage: 28.1 KB\n"
     ]
    },
    {
     "data": {
      "text/html": [
       "<div>\n",
       "<style scoped>\n",
       "    .dataframe tbody tr th:only-of-type {\n",
       "        vertical-align: middle;\n",
       "    }\n",
       "\n",
       "    .dataframe tbody tr th {\n",
       "        vertical-align: top;\n",
       "    }\n",
       "\n",
       "    .dataframe thead th {\n",
       "        text-align: right;\n",
       "    }\n",
       "</style>\n",
       "<table border=\"1\" class=\"dataframe\">\n",
       "  <thead>\n",
       "    <tr style=\"text-align: right;\">\n",
       "      <th></th>\n",
       "      <th>Time</th>\n",
       "      <th>User</th>\n",
       "      <th>System</th>\n",
       "      <th>IoWait</th>\n",
       "    </tr>\n",
       "  </thead>\n",
       "  <tbody>\n",
       "    <tr>\n",
       "      <th>0</th>\n",
       "      <td>2022-06-09 13:49:00</td>\n",
       "      <td>0.266684</td>\n",
       "      <td>0.125008</td>\n",
       "      <td>0.01665</td>\n",
       "    </tr>\n",
       "    <tr>\n",
       "      <th>1</th>\n",
       "      <td>2022-06-09 13:49:20</td>\n",
       "      <td>0.183267</td>\n",
       "      <td>0.116625</td>\n",
       "      <td>0.00000</td>\n",
       "    </tr>\n",
       "  </tbody>\n",
       "</table>\n",
       "</div>"
      ],
      "text/plain": [
       "                 Time      User    System   IoWait\n",
       "0 2022-06-09 13:49:00  0.266684  0.125008  0.01665\n",
       "1 2022-06-09 13:49:20  0.183267  0.116625  0.00000"
      ]
     },
     "execution_count": 5,
     "metadata": {},
     "output_type": "execute_result"
    }
   ],
   "source": [
    "cdata['Time'] = pd.to_datetime(cdata['Time'], unit='ms')\n",
    "cdata.info()\n",
    "cdata.head(2)"
   ]
  },
  {
   "cell_type": "code",
   "execution_count": 6,
   "id": "4873582d-1e81-41c7-8d4d-e0ce81a5296e",
   "metadata": {},
   "outputs": [
    {
     "name": "stdout",
     "output_type": "stream",
     "text": [
      "= CPU usage (%) =\n",
      "\n",
      "Samples: [60.265800681147375, 61.52824097028779, 66.6638387721068, 60.487679092218364, 59.969987921219285, 68.3682977085205, 60.28643011587285, 60.03338605147368, 65.99368489798832, 58.63095371792033, 62.20331059025961, 57.81131436028259, 61.71881621843576, 68.68497581401762, 68.15947048460673, 58.357030292758914, 61.09690974794511, 64.85229427175803, 59.93722421481103, 68.89206648990717, 59.1159476260284, 68.08949323100892, 63.05933384748687, 61.804161597699874, 61.25020140049795, 67.25353747842341, 58.43682957316918, 58.13566119983628, 68.59641678895359, 66.87354239255698]\n",
      "\n",
      "Mean: 62.88522791830664 \n",
      "\n",
      "Median: 61.62352859436177\n",
      "\n",
      "Mode: 57.81131436028259\n",
      "\n",
      "Mimimum: 57.81131436028259 \n",
      "\n",
      "Maximum: 68.89206648990717\n",
      "\n",
      "Values for confidence interval of 95%: \n",
      "\n",
      "  - lower limit: 61.4533544566452 \n",
      "\n",
      "  - upper limit: 64.31710137996808\n"
     ]
    }
   ],
   "source": [
    "cpu_usage = get_usage_list(data_frame=cdata, initial_time='2022-06-09 13:49:00', column='User')\n",
    "print(\"= CPU usage (%) =\\n\")\n",
    "get_statistics(cpu_usage)"
   ]
  },
  {
   "cell_type": "markdown",
   "id": "7ef73934-92c7-4ba6-ae2d-27e0e4dbb554",
   "metadata": {},
   "source": [
    "### Memory"
   ]
  },
  {
   "cell_type": "code",
   "execution_count": 7,
   "id": "f2f4e066-b65a-4561-8191-60548cc74ad8",
   "metadata": {},
   "outputs": [
    {
     "name": "stdout",
     "output_type": "stream",
     "text": [
      "<class 'pandas.core.frame.DataFrame'>\n",
      "RangeIndex: 597 entries, 0 to 596\n",
      "Data columns (total 3 columns):\n",
      " #   Column  Non-Null Count  Dtype  \n",
      "---  ------  --------------  -----  \n",
      " 0   Time    597 non-null    int64  \n",
      " 1   used    597 non-null    float64\n",
      " 2   total   597 non-null    int64  \n",
      "dtypes: float64(1), int64(2)\n",
      "memory usage: 14.1 KB\n"
     ]
    },
    {
     "data": {
      "text/html": [
       "<div>\n",
       "<style scoped>\n",
       "    .dataframe tbody tr th:only-of-type {\n",
       "        vertical-align: middle;\n",
       "    }\n",
       "\n",
       "    .dataframe tbody tr th {\n",
       "        vertical-align: top;\n",
       "    }\n",
       "\n",
       "    .dataframe thead th {\n",
       "        text-align: right;\n",
       "    }\n",
       "</style>\n",
       "<table border=\"1\" class=\"dataframe\">\n",
       "  <thead>\n",
       "    <tr style=\"text-align: right;\">\n",
       "      <th></th>\n",
       "      <th>Time</th>\n",
       "      <th>used</th>\n",
       "      <th>total</th>\n",
       "    </tr>\n",
       "  </thead>\n",
       "  <tbody>\n",
       "    <tr>\n",
       "      <th>0</th>\n",
       "      <td>1654782540000</td>\n",
       "      <td>1.790644e+09</td>\n",
       "      <td>4053430272</td>\n",
       "    </tr>\n",
       "    <tr>\n",
       "      <th>1</th>\n",
       "      <td>1654782570000</td>\n",
       "      <td>1.791594e+09</td>\n",
       "      <td>4053430272</td>\n",
       "    </tr>\n",
       "  </tbody>\n",
       "</table>\n",
       "</div>"
      ],
      "text/plain": [
       "            Time          used       total\n",
       "0  1654782540000  1.790644e+09  4053430272\n",
       "1  1654782570000  1.791594e+09  4053430272"
      ]
     },
     "execution_count": 7,
     "metadata": {},
     "output_type": "execute_result"
    }
   ],
   "source": [
    "mdata = pd.read_csv('tensorflow/mem.csv')\n",
    "mdata.info()\n",
    "mdata.head(2)"
   ]
  },
  {
   "cell_type": "code",
   "execution_count": 8,
   "id": "824e1a8a-68d8-4b07-b5cd-2e40fb55267b",
   "metadata": {},
   "outputs": [
    {
     "name": "stdout",
     "output_type": "stream",
     "text": [
      "<class 'pandas.core.frame.DataFrame'>\n",
      "RangeIndex: 597 entries, 0 to 596\n",
      "Data columns (total 3 columns):\n",
      " #   Column  Non-Null Count  Dtype         \n",
      "---  ------  --------------  -----         \n",
      " 0   Time    597 non-null    datetime64[ns]\n",
      " 1   used    597 non-null    float64       \n",
      " 2   total   597 non-null    int64         \n",
      "dtypes: datetime64[ns](1), float64(1), int64(1)\n",
      "memory usage: 14.1 KB\n"
     ]
    },
    {
     "data": {
      "text/html": [
       "<div>\n",
       "<style scoped>\n",
       "    .dataframe tbody tr th:only-of-type {\n",
       "        vertical-align: middle;\n",
       "    }\n",
       "\n",
       "    .dataframe tbody tr th {\n",
       "        vertical-align: top;\n",
       "    }\n",
       "\n",
       "    .dataframe thead th {\n",
       "        text-align: right;\n",
       "    }\n",
       "</style>\n",
       "<table border=\"1\" class=\"dataframe\">\n",
       "  <thead>\n",
       "    <tr style=\"text-align: right;\">\n",
       "      <th></th>\n",
       "      <th>Time</th>\n",
       "      <th>used</th>\n",
       "      <th>total</th>\n",
       "    </tr>\n",
       "  </thead>\n",
       "  <tbody>\n",
       "    <tr>\n",
       "      <th>0</th>\n",
       "      <td>2022-06-09 13:49:00</td>\n",
       "      <td>1.790644e+09</td>\n",
       "      <td>4053430272</td>\n",
       "    </tr>\n",
       "    <tr>\n",
       "      <th>1</th>\n",
       "      <td>2022-06-09 13:49:30</td>\n",
       "      <td>1.791594e+09</td>\n",
       "      <td>4053430272</td>\n",
       "    </tr>\n",
       "  </tbody>\n",
       "</table>\n",
       "</div>"
      ],
      "text/plain": [
       "                 Time          used       total\n",
       "0 2022-06-09 13:49:00  1.790644e+09  4053430272\n",
       "1 2022-06-09 13:49:30  1.791594e+09  4053430272"
      ]
     },
     "execution_count": 8,
     "metadata": {},
     "output_type": "execute_result"
    }
   ],
   "source": [
    "mdata['Time'] = pd.to_datetime(mdata['Time'], unit='ms')\n",
    "mdata.info()\n",
    "mdata.head(2)"
   ]
  },
  {
   "cell_type": "code",
   "execution_count": 9,
   "id": "95ec6758-e2f5-4433-9ce3-45042e59fb2c",
   "metadata": {},
   "outputs": [
    {
     "name": "stdout",
     "output_type": "stream",
     "text": [
      "= Memory usage (GB) =\n",
      "\n",
      "Samples: [1.8914645333333333, 1.904214016, 1.8985437866666668, 1.9129903786666667, 1.91236096, 1.915219968, 1.8964056746666667, 1.9112413866666667, 1.9181909333333333, 1.8967647573333333, 1.8953065813333332, 1.9183793493333332, 1.902493696, 1.8975320746666668, 1.9166303573333332, 1.9080942933333334, 1.907712, 1.9202717013333332, 1.927327744, 1.9141236053333333, 1.935228928, 1.9185104213333333, 1.907355648, 1.9221640533333333, 1.9280431786666667, 1.921753088, 1.9110884693333332, 1.9096070826666667, 1.934446592, 1.930752]\n",
      "\n",
      "Mean: 1.9128072419555557 \n",
      "\n",
      "Median: 1.9126756693333333\n",
      "\n",
      "Mode: 1.8914645333333333\n",
      "\n",
      "Mimimum: 1.8914645333333333 \n",
      "\n",
      "Maximum: 1.935228928\n",
      "\n",
      "Values for confidence interval of 95%: \n",
      "\n",
      "  - lower limit: 1.9083820102946165 \n",
      "\n",
      "  - upper limit: 1.917232473616495\n"
     ]
    }
   ],
   "source": [
    "mem_usage = get_usage_list(data_frame=mdata, initial_time='2022-06-09 13:49:00', column='used')\n",
    "mem_usage_gb = [x / 1000000000 for x in mem_usage]\n",
    "print(\"= Memory usage (GB) =\\n\")\n",
    "get_statistics(mem_usage_gb)"
   ]
  },
  {
   "cell_type": "markdown",
   "id": "3847eb71-14b5-4fa3-bdce-40a483706bfa",
   "metadata": {
    "tags": []
   },
   "source": [
    "### Build and delivery (Stage II) time"
   ]
  },
  {
   "cell_type": "code",
   "execution_count": 10,
   "id": "047a3bac-4c9b-402c-b64d-16d8e6d2fd06",
   "metadata": {},
   "outputs": [],
   "source": [
    "build_time = list()\n",
    "with open('tensorflow/build_time.txt') as f:\n",
    "    for line in f:\n",
    "        build_time.append(int(line.rstrip()))"
   ]
  },
  {
   "cell_type": "code",
   "execution_count": 11,
   "id": "612f3aef-5717-49ba-8590-65cccbc6b0ad",
   "metadata": {},
   "outputs": [
    {
     "name": "stdout",
     "output_type": "stream",
     "text": [
      "= Stage II time (s) =\n",
      "\n",
      "Samples: [172, 177, 171, 178, 176, 170, 176, 177, 171, 175, 177, 176, 177, 171, 172, 176, 171, 172, 177, 171, 177, 172, 178, 177, 177, 172, 177, 175, 170, 171]\n",
      "\n",
      "Mean: 174.3 \n",
      "\n",
      "Median: 175.5\n",
      "\n",
      "Mode: 177\n",
      "\n",
      "Mimimum: 170 \n",
      "\n",
      "Maximum: 178\n",
      "\n",
      "Values for confidence interval of 95%: \n",
      "\n",
      "  - lower limit: 173.23862562915448 \n",
      "\n",
      "  - upper limit: 175.36137437084554\n"
     ]
    }
   ],
   "source": [
    "mean_val = np.mean(build_time) \n",
    " \n",
    "lower, upper = st.t.interval(alpha=.95, df=len(build_time)-1, loc=mean_val, scale=st.sem(build_time))\n",
    "\n",
    "print(\"= Stage II time (s) =\\n\")\n",
    "\n",
    "print(f\"Samples: {build_time}\"\n",
    "      f\"\\n\\nMean: {mean_val} \\n\\nMedian: {np.median(build_time)}\"\n",
    "      f\"\\n\\nMode: {st.mode(build_time)[0][0]}\"\n",
    "      f\"\\n\\nMimimum: {min(build_time)} \\n\\nMaximum: {max(build_time)}\"\n",
    "      f\"\\n\\nValues for confidence interval of 95%: \\n\\n\"\n",
    "      f\"  - lower limit: {lower} \\n\\n  - upper limit: {upper}\")"
   ]
  },
  {
   "cell_type": "markdown",
   "id": "3783e33e-5082-48c3-844f-719f574625c0",
   "metadata": {
    "tags": []
   },
   "source": [
    "## TensorFlow Lite"
   ]
  },
  {
   "cell_type": "markdown",
   "id": "de09297c-b194-4aaf-847b-c0e96a030833",
   "metadata": {},
   "source": [
    "### CPU"
   ]
  },
  {
   "cell_type": "code",
   "execution_count": 12,
   "id": "4d5a68d0-e0b2-4c1a-9431-949d2249d151",
   "metadata": {},
   "outputs": [
    {
     "name": "stdout",
     "output_type": "stream",
     "text": [
      "<class 'pandas.core.frame.DataFrame'>\n",
      "RangeIndex: 895 entries, 0 to 894\n",
      "Data columns (total 4 columns):\n",
      " #   Column  Non-Null Count  Dtype  \n",
      "---  ------  --------------  -----  \n",
      " 0   Time    895 non-null    int64  \n",
      " 1   User    895 non-null    float64\n",
      " 2   System  895 non-null    float64\n",
      " 3   IoWait  895 non-null    float64\n",
      "dtypes: float64(3), int64(1)\n",
      "memory usage: 28.1 KB\n"
     ]
    },
    {
     "data": {
      "text/html": [
       "<div>\n",
       "<style scoped>\n",
       "    .dataframe tbody tr th:only-of-type {\n",
       "        vertical-align: middle;\n",
       "    }\n",
       "\n",
       "    .dataframe tbody tr th {\n",
       "        vertical-align: top;\n",
       "    }\n",
       "\n",
       "    .dataframe thead th {\n",
       "        text-align: right;\n",
       "    }\n",
       "</style>\n",
       "<table border=\"1\" class=\"dataframe\">\n",
       "  <thead>\n",
       "    <tr style=\"text-align: right;\">\n",
       "      <th></th>\n",
       "      <th>Time</th>\n",
       "      <th>User</th>\n",
       "      <th>System</th>\n",
       "      <th>IoWait</th>\n",
       "    </tr>\n",
       "  </thead>\n",
       "  <tbody>\n",
       "    <tr>\n",
       "      <th>0</th>\n",
       "      <td>1654800660000</td>\n",
       "      <td>0.275084</td>\n",
       "      <td>0.108396</td>\n",
       "      <td>0.025021</td>\n",
       "    </tr>\n",
       "    <tr>\n",
       "      <th>1</th>\n",
       "      <td>1654800680000</td>\n",
       "      <td>0.533709</td>\n",
       "      <td>0.249859</td>\n",
       "      <td>0.024975</td>\n",
       "    </tr>\n",
       "  </tbody>\n",
       "</table>\n",
       "</div>"
      ],
      "text/plain": [
       "            Time      User    System    IoWait\n",
       "0  1654800660000  0.275084  0.108396  0.025021\n",
       "1  1654800680000  0.533709  0.249859  0.024975"
      ]
     },
     "execution_count": 12,
     "metadata": {},
     "output_type": "execute_result"
    }
   ],
   "source": [
    "cdata2 = pd.read_csv('tensorflow-lite/cpu.csv')\n",
    "cdata2.info()\n",
    "cdata2.head(2)"
   ]
  },
  {
   "cell_type": "code",
   "execution_count": 13,
   "id": "0a6175f8-7fe3-4c58-b445-238490408866",
   "metadata": {},
   "outputs": [
    {
     "name": "stdout",
     "output_type": "stream",
     "text": [
      "<class 'pandas.core.frame.DataFrame'>\n",
      "RangeIndex: 895 entries, 0 to 894\n",
      "Data columns (total 4 columns):\n",
      " #   Column  Non-Null Count  Dtype         \n",
      "---  ------  --------------  -----         \n",
      " 0   Time    895 non-null    datetime64[ns]\n",
      " 1   User    895 non-null    float64       \n",
      " 2   System  895 non-null    float64       \n",
      " 3   IoWait  895 non-null    float64       \n",
      "dtypes: datetime64[ns](1), float64(3)\n",
      "memory usage: 28.1 KB\n"
     ]
    },
    {
     "data": {
      "text/html": [
       "<div>\n",
       "<style scoped>\n",
       "    .dataframe tbody tr th:only-of-type {\n",
       "        vertical-align: middle;\n",
       "    }\n",
       "\n",
       "    .dataframe tbody tr th {\n",
       "        vertical-align: top;\n",
       "    }\n",
       "\n",
       "    .dataframe thead th {\n",
       "        text-align: right;\n",
       "    }\n",
       "</style>\n",
       "<table border=\"1\" class=\"dataframe\">\n",
       "  <thead>\n",
       "    <tr style=\"text-align: right;\">\n",
       "      <th></th>\n",
       "      <th>Time</th>\n",
       "      <th>User</th>\n",
       "      <th>System</th>\n",
       "      <th>IoWait</th>\n",
       "    </tr>\n",
       "  </thead>\n",
       "  <tbody>\n",
       "    <tr>\n",
       "      <th>0</th>\n",
       "      <td>2022-06-09 18:51:00</td>\n",
       "      <td>0.275084</td>\n",
       "      <td>0.108396</td>\n",
       "      <td>0.025021</td>\n",
       "    </tr>\n",
       "    <tr>\n",
       "      <th>1</th>\n",
       "      <td>2022-06-09 18:51:20</td>\n",
       "      <td>0.533709</td>\n",
       "      <td>0.249859</td>\n",
       "      <td>0.024975</td>\n",
       "    </tr>\n",
       "  </tbody>\n",
       "</table>\n",
       "</div>"
      ],
      "text/plain": [
       "                 Time      User    System    IoWait\n",
       "0 2022-06-09 18:51:00  0.275084  0.108396  0.025021\n",
       "1 2022-06-09 18:51:20  0.533709  0.249859  0.024975"
      ]
     },
     "execution_count": 13,
     "metadata": {},
     "output_type": "execute_result"
    }
   ],
   "source": [
    "cdata2['Time'] = pd.to_datetime(cdata2['Time'], unit='ms')\n",
    "cdata2.info()\n",
    "cdata2.head(2)"
   ]
  },
  {
   "cell_type": "code",
   "execution_count": 14,
   "id": "4acef0bc-f885-46e5-a8bf-3846d79faf0f",
   "metadata": {},
   "outputs": [
    {
     "name": "stdout",
     "output_type": "stream",
     "text": [
      "= CPU usage (%) =\n",
      "\n",
      "Samples: [60.71724449791424, 66.27006076102047, 64.68484243914186, 60.94026716061575, 64.69974978095216, 65.85585889512826, 63.925034317584085, 63.75271334383459, 64.4925890084877, 64.80442569784759, 63.39051522286068, 63.48227180527895, 65.75009435422687, 63.08006089442739, 63.38263663489716, 64.76406954844981, 65.91994222176432, 65.78995831921632, 64.99019724173311, 64.05935972329829, 66.26432533519868, 67.13215684612562, 66.83678530752515, 65.72041874091165, 64.65057901007884, 66.07559187857969, 64.49953568290925, 66.10523877337891, 66.09916792644948, 64.57854021497359]\n",
      "\n",
      "Mean: 64.75714105282702 \n",
      "\n",
      "Median: 64.73190966470099\n",
      "\n",
      "Mode: 60.71724449791424\n",
      "\n",
      "Mimimum: 60.71724449791424 \n",
      "\n",
      "Maximum: 67.13215684612562\n",
      "\n",
      "Values for confidence interval of 95%: \n",
      "\n",
      "  - lower limit: 64.18982583101926 \n",
      "\n",
      "  - upper limit: 65.32445627463478\n"
     ]
    }
   ],
   "source": [
    "cpu_usage = get_usage_list(data_frame=cdata2, initial_time='2022-06-09 18:51:00', column='User')\n",
    "print(\"= CPU usage (%) =\\n\")\n",
    "get_statistics(cpu_usage)"
   ]
  },
  {
   "cell_type": "markdown",
   "id": "aab5238a-4d8f-469c-bdf9-e844ffa56648",
   "metadata": {
    "tags": []
   },
   "source": [
    "### Memory"
   ]
  },
  {
   "cell_type": "code",
   "execution_count": 15,
   "id": "6c23d3c9-3e35-46a5-ae58-4e88ac25fa8a",
   "metadata": {},
   "outputs": [
    {
     "name": "stdout",
     "output_type": "stream",
     "text": [
      "<class 'pandas.core.frame.DataFrame'>\n",
      "RangeIndex: 597 entries, 0 to 596\n",
      "Data columns (total 3 columns):\n",
      " #   Column  Non-Null Count  Dtype  \n",
      "---  ------  --------------  -----  \n",
      " 0   Time    597 non-null    int64  \n",
      " 1   used    597 non-null    float64\n",
      " 2   total   597 non-null    int64  \n",
      "dtypes: float64(1), int64(2)\n",
      "memory usage: 14.1 KB\n"
     ]
    },
    {
     "data": {
      "text/html": [
       "<div>\n",
       "<style scoped>\n",
       "    .dataframe tbody tr th:only-of-type {\n",
       "        vertical-align: middle;\n",
       "    }\n",
       "\n",
       "    .dataframe tbody tr th {\n",
       "        vertical-align: top;\n",
       "    }\n",
       "\n",
       "    .dataframe thead th {\n",
       "        text-align: right;\n",
       "    }\n",
       "</style>\n",
       "<table border=\"1\" class=\"dataframe\">\n",
       "  <thead>\n",
       "    <tr style=\"text-align: right;\">\n",
       "      <th></th>\n",
       "      <th>Time</th>\n",
       "      <th>used</th>\n",
       "      <th>total</th>\n",
       "    </tr>\n",
       "  </thead>\n",
       "  <tbody>\n",
       "    <tr>\n",
       "      <th>0</th>\n",
       "      <td>1654800660000</td>\n",
       "      <td>1.843084e+09</td>\n",
       "      <td>4053430272</td>\n",
       "    </tr>\n",
       "    <tr>\n",
       "      <th>1</th>\n",
       "      <td>1654800690000</td>\n",
       "      <td>1.842512e+09</td>\n",
       "      <td>4053430272</td>\n",
       "    </tr>\n",
       "  </tbody>\n",
       "</table>\n",
       "</div>"
      ],
      "text/plain": [
       "            Time          used       total\n",
       "0  1654800660000  1.843084e+09  4053430272\n",
       "1  1654800690000  1.842512e+09  4053430272"
      ]
     },
     "execution_count": 15,
     "metadata": {},
     "output_type": "execute_result"
    }
   ],
   "source": [
    "mdata2 = pd.read_csv('tensorflow-lite/mem.csv')\n",
    "mdata2.info()\n",
    "mdata2.head(2)"
   ]
  },
  {
   "cell_type": "code",
   "execution_count": 16,
   "id": "832d0128-84da-40bc-8c0a-59ba1951d8a4",
   "metadata": {},
   "outputs": [
    {
     "name": "stdout",
     "output_type": "stream",
     "text": [
      "<class 'pandas.core.frame.DataFrame'>\n",
      "RangeIndex: 597 entries, 0 to 596\n",
      "Data columns (total 3 columns):\n",
      " #   Column  Non-Null Count  Dtype         \n",
      "---  ------  --------------  -----         \n",
      " 0   Time    597 non-null    datetime64[ns]\n",
      " 1   used    597 non-null    float64       \n",
      " 2   total   597 non-null    int64         \n",
      "dtypes: datetime64[ns](1), float64(1), int64(1)\n",
      "memory usage: 14.1 KB\n"
     ]
    },
    {
     "data": {
      "text/html": [
       "<div>\n",
       "<style scoped>\n",
       "    .dataframe tbody tr th:only-of-type {\n",
       "        vertical-align: middle;\n",
       "    }\n",
       "\n",
       "    .dataframe tbody tr th {\n",
       "        vertical-align: top;\n",
       "    }\n",
       "\n",
       "    .dataframe thead th {\n",
       "        text-align: right;\n",
       "    }\n",
       "</style>\n",
       "<table border=\"1\" class=\"dataframe\">\n",
       "  <thead>\n",
       "    <tr style=\"text-align: right;\">\n",
       "      <th></th>\n",
       "      <th>Time</th>\n",
       "      <th>used</th>\n",
       "      <th>total</th>\n",
       "    </tr>\n",
       "  </thead>\n",
       "  <tbody>\n",
       "    <tr>\n",
       "      <th>0</th>\n",
       "      <td>2022-06-09 18:51:00</td>\n",
       "      <td>1.843084e+09</td>\n",
       "      <td>4053430272</td>\n",
       "    </tr>\n",
       "    <tr>\n",
       "      <th>1</th>\n",
       "      <td>2022-06-09 18:51:30</td>\n",
       "      <td>1.842512e+09</td>\n",
       "      <td>4053430272</td>\n",
       "    </tr>\n",
       "  </tbody>\n",
       "</table>\n",
       "</div>"
      ],
      "text/plain": [
       "                 Time          used       total\n",
       "0 2022-06-09 18:51:00  1.843084e+09  4053430272\n",
       "1 2022-06-09 18:51:30  1.842512e+09  4053430272"
      ]
     },
     "execution_count": 16,
     "metadata": {},
     "output_type": "execute_result"
    }
   ],
   "source": [
    "mdata2['Time'] = pd.to_datetime(mdata2['Time'], unit='ms')\n",
    "mdata2.info()\n",
    "mdata2.head(2)"
   ]
  },
  {
   "cell_type": "code",
   "execution_count": 17,
   "id": "f44c00ab-3d9b-4791-8ffe-2fc802720793",
   "metadata": {},
   "outputs": [
    {
     "name": "stdout",
     "output_type": "stream",
     "text": [
      "= Memory usage (GB) =\n",
      "\n",
      "Samples: [1.8949884586666668, 1.9036214613333333, 1.8955537066666668, 1.9088288426666666, 1.9208628906666667, 1.9046427306666667, 1.894203392, 1.9216643413333332, 1.9131706026666668, 1.9149550933333332, 1.9259050666666668, 1.90984192, 1.906077696, 1.9015857493333332, 1.9093189973333333, 1.931309056, 1.9192941226666667, 1.923547136, 1.9213407573333332, 1.92382976, 1.9362474666666667, 1.9307410773333333, 1.9462826666666668, 1.943441408, 1.918328832, 1.9451139413333332, 1.9405073066666667, 1.935839232, 1.9433035093333333, 1.941655552]\n",
      "\n",
      "Mean: 1.9208667591111113 \n",
      "\n",
      "Median: 1.921101824\n",
      "\n",
      "Mode: 1.894203392\n",
      "\n",
      "Mimimum: 1.894203392 \n",
      "\n",
      "Maximum: 1.9462826666666668\n",
      "\n",
      "Values for confidence interval of 95%: \n",
      "\n",
      "  - lower limit: 1.9148819274496398 \n",
      "\n",
      "  - upper limit: 1.9268515907725827\n"
     ]
    }
   ],
   "source": [
    "mem_usage = get_usage_list(data_frame=mdata2, initial_time='2022-06-09 18:51:00', column='used')\n",
    "mem_usage_gb = [x / 1000000000 for x in mem_usage]\n",
    "print(\"= Memory usage (GB) =\\n\")\n",
    "get_statistics(mem_usage_gb)"
   ]
  },
  {
   "cell_type": "markdown",
   "id": "70b1bc5a-8c65-403a-81e5-3899e866fc7c",
   "metadata": {
    "tags": []
   },
   "source": [
    "### Build and delivery (Stage II) time"
   ]
  },
  {
   "cell_type": "code",
   "execution_count": 18,
   "id": "de47cad0-c95b-454e-aeaf-86ea4ae72321",
   "metadata": {},
   "outputs": [],
   "source": [
    "build_time2 = list()\n",
    "with open('tensorflow-lite/build_time.txt') as f:\n",
    "    for line in f:\n",
    "        build_time2.append(int(line.rstrip()))"
   ]
  },
  {
   "cell_type": "code",
   "execution_count": 19,
   "id": "604b743f-3d57-4a62-8904-19f930e12d03",
   "metadata": {},
   "outputs": [
    {
     "name": "stdout",
     "output_type": "stream",
     "text": [
      "= Stage II time (s) =\n",
      "\n",
      "Samples: [55, 55, 55, 56, 55, 55, 55, 56, 55, 56, 56, 55, 55, 56, 56, 55, 55, 56, 55, 56, 55, 54, 54, 55, 55, 55, 55, 55, 54, 56]\n",
      "\n",
      "Mean: 55.2 \n",
      "\n",
      "Median: 55.0\n",
      "\n",
      "Mode: 55\n",
      "\n",
      "Mimimum: 54 \n",
      "\n",
      "Maximum: 56\n",
      "\n",
      "Values for confidence interval of 95%: \n",
      "\n",
      "  - lower limit: 54.972126233972666 \n",
      "\n",
      "  - upper limit: 55.42787376602734\n"
     ]
    }
   ],
   "source": [
    "mean_val = np.mean(build_time2) \n",
    " \n",
    "lower, upper = st.t.interval(alpha=.95, df=len(build_time2)-1, loc=mean_val, scale=st.sem(build_time2))\n",
    "\n",
    "print(\"= Stage II time (s) =\\n\")\n",
    "\n",
    "print(f\"Samples: {build_time2}\"\n",
    "      f\"\\n\\nMean: {mean_val} \\n\\nMedian: {np.median(build_time2)}\"\n",
    "      f\"\\n\\nMode: {st.mode(build_time2)[0][0]}\"\n",
    "      f\"\\n\\nMimimum: {min(build_time2)} \\n\\nMaximum: {max(build_time2)}\"\n",
    "      f\"\\n\\nValues for confidence interval of 95%: \\n\\n\"\n",
    "      f\"  - lower limit: {lower} \\n\\n  - upper limit: {upper}\")"
   ]
  },
  {
   "cell_type": "code",
   "execution_count": null,
   "id": "1700373b-4f40-4a70-9a74-d4e8cb24919a",
   "metadata": {},
   "outputs": [],
   "source": []
  }
 ],
 "metadata": {
  "kernelspec": {
   "display_name": "Python 3 (ipykernel)",
   "language": "python",
   "name": "python3"
  },
  "language_info": {
   "codemirror_mode": {
    "name": "ipython",
    "version": 3
   },
   "file_extension": ".py",
   "mimetype": "text/x-python",
   "name": "python",
   "nbconvert_exporter": "python",
   "pygments_lexer": "ipython3",
   "version": "3.9.10"
  }
 },
 "nbformat": 4,
 "nbformat_minor": 5
}
